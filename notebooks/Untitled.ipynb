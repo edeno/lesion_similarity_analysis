{
 "cells": [
  {
   "cell_type": "code",
   "execution_count": 2,
   "metadata": {},
   "outputs": [],
   "source": [
    "%matplotlib inline\n",
    "%reload_ext autoreload\n",
    "%autoreload 2\n",
    "%config InlineBackend.figure_format = 'retina'\n",
    "%reload_ext lab_black"
   ]
  },
  {
   "cell_type": "code",
   "execution_count": 5,
   "metadata": {},
   "outputs": [],
   "source": [
    "data_path = \"/stelmo/david/FXS/coh4/lesionEvaluation/FXScoh4/Cropped/\""
   ]
  },
  {
   "cell_type": "code",
   "execution_count": 6,
   "metadata": {},
   "outputs": [],
   "source": [
    "import time\n",
    "from itertools import combinations_with_replacement\n",
    "\n",
    "import numpy as np\n",
    "from skimage import io\n",
    "from skimage.metrics import structural_similarity as ssim\n",
    "\n",
    "anKey = np.array(\n",
    "    [\n",
    "        100,\n",
    "        101,\n",
    "        102,\n",
    "        103,\n",
    "        104,\n",
    "        105,\n",
    "        106,\n",
    "        107,\n",
    "        108,\n",
    "        109,\n",
    "        110,\n",
    "        111,\n",
    "        112,\n",
    "        113,\n",
    "        114,\n",
    "        115,\n",
    "        200,\n",
    "        201,\n",
    "        202,\n",
    "        203,\n",
    "        204,\n",
    "        205,\n",
    "        206,\n",
    "        207,\n",
    "        208,\n",
    "    ]\n",
    ")\n",
    "\n",
    "control = np.array(\n",
    "    [0, 1, 0, 1, 0, 1, 0, 1, 1, 0, 1, 0, 1, 0, 1, 0, 1, 0, 1, 0, 1, 0, 0, 1, 0]\n",
    ")\n",
    "\n",
    "output_size = {\n",
    "    (\"L\", \"Dorsal\"): 363,\n",
    "    (\"L\", \"Intermediate\"): 498,\n",
    "    (\"R\", \"Dorsal\"): 349,\n",
    "    (\"R\", \"Intermediate\"): 500,\n",
    "}"
   ]
  },
  {
   "cell_type": "code",
   "execution_count": 4,
   "metadata": {},
   "outputs": [],
   "source": [
    "LorR, hippoPart, sig = \"L\", \"Dorsal\", 50"
   ]
  },
  {
   "cell_type": "code",
   "execution_count": 8,
   "metadata": {},
   "outputs": [
    {
     "data": {
      "text/plain": [
       "450"
      ]
     },
     "execution_count": 8,
     "metadata": {},
     "output_type": "execute_result"
    }
   ],
   "source": [
    "from glob import glob\n",
    "\n",
    "len(glob(f\"{data_path}/{hippoPart}/{LorR}/101/*.tif\"))"
   ]
  },
  {
   "cell_type": "code",
   "execution_count": 15,
   "metadata": {},
   "outputs": [
    {
     "data": {
      "text/plain": [
       "(25, 25, 363)"
      ]
     },
     "execution_count": 15,
     "metadata": {},
     "output_type": "execute_result"
    }
   ],
   "source": [
    "n_slices = output_size[(LorR, hippoPart)]\n",
    "output = np.zeros((anKey.size, anKey.size, n_slices))\n",
    "output.shape"
   ]
  },
  {
   "cell_type": "code",
   "execution_count": 18,
   "metadata": {},
   "outputs": [
    {
     "data": {
      "text/plain": [
       "'0000'"
      ]
     },
     "execution_count": 18,
     "metadata": {},
     "output_type": "execute_result"
    }
   ],
   "source": [
    "i = 0\n",
    "\n",
    "if i < 10:\n",
    "    which = f\"000{i}\"\n",
    "elif i < 100:\n",
    "    which = f\"00{i}\"\n",
    "elif i < 1000:\n",
    "    which = f\"0{i}\"\n",
    "else:\n",
    "    which = str(i)\n",
    "\n",
    "which"
   ]
  },
  {
   "cell_type": "code",
   "execution_count": 20,
   "metadata": {},
   "outputs": [
    {
     "data": {
      "text/plain": [
       "(25, 25)"
      ]
     },
     "execution_count": 20,
     "metadata": {},
     "output_type": "execute_result"
    }
   ],
   "source": [
    "sim = np.full((anKey.size, anKey.size), np.nan)\n",
    "sim.shape"
   ]
  },
  {
   "cell_type": "code",
   "execution_count": 24,
   "metadata": {},
   "outputs": [],
   "source": [
    "from itertools import combinations\n",
    "\n",
    "for i, j in combinations(range(anKey.size), 2):\n",
    "    pass"
   ]
  },
  {
   "cell_type": "code",
   "execution_count": 25,
   "metadata": {},
   "outputs": [
    {
     "data": {
      "text/plain": [
       "'207'"
      ]
     },
     "execution_count": 25,
     "metadata": {},
     "output_type": "execute_result"
    }
   ],
   "source": [
    "str(anKey[i])"
   ]
  },
  {
   "cell_type": "code",
   "execution_count": 26,
   "metadata": {},
   "outputs": [
    {
     "data": {
      "text/plain": [
       "'208'"
      ]
     },
     "execution_count": 26,
     "metadata": {},
     "output_type": "execute_result"
    }
   ],
   "source": [
    "str(anKey[j])"
   ]
  },
  {
   "cell_type": "code",
   "execution_count": 70,
   "metadata": {},
   "outputs": [],
   "source": [
    "from glob import glob\n",
    "from os.path import basename\n",
    "\n",
    "temp_path = glob(f\"{data_path}/{hippoPart}/{LorR}/*\")[0]\n",
    "file_name = [basename(f) for f in glob(f\"{temp_path}/*.tif\")]"
   ]
  },
  {
   "cell_type": "code",
   "execution_count": 100,
   "metadata": {},
   "outputs": [
    {
     "data": {
      "text/html": [
       "<table>\n",
       "<tr>\n",
       "<td>\n",
       "<table>\n",
       "  <thead>\n",
       "    <tr><td> </td><th> Array </th><th> Chunk </th></tr>\n",
       "  </thead>\n",
       "  <tbody>\n",
       "    <tr><th> Bytes </th><td> 6.63 MB </td> <td> 265.18 kB </td></tr>\n",
       "    <tr><th> Shape </th><td> (25, 386, 687) </td> <td> (1, 386, 687) </td></tr>\n",
       "    <tr><th> Count </th><td> 75 Tasks </td><td> 25 Chunks </td></tr>\n",
       "    <tr><th> Type </th><td> uint8 </td><td> numpy.ndarray </td></tr>\n",
       "  </tbody>\n",
       "</table>\n",
       "</td>\n",
       "<td>\n",
       "<svg width=\"199\" height=\"136\" style=\"stroke:rgb(0,0,0);stroke-width:1\" >\n",
       "\n",
       "  <!-- Horizontal lines -->\n",
       "  <line x1=\"10\" y1=\"0\" x2=\"29\" y2=\"19\" style=\"stroke-width:2\" />\n",
       "  <line x1=\"10\" y1=\"67\" x2=\"29\" y2=\"86\" style=\"stroke-width:2\" />\n",
       "\n",
       "  <!-- Vertical lines -->\n",
       "  <line x1=\"10\" y1=\"0\" x2=\"10\" y2=\"67\" style=\"stroke-width:2\" />\n",
       "  <line x1=\"10\" y1=\"0\" x2=\"10\" y2=\"68\" />\n",
       "  <line x1=\"11\" y1=\"1\" x2=\"11\" y2=\"68\" />\n",
       "  <line x1=\"12\" y1=\"2\" x2=\"12\" y2=\"69\" />\n",
       "  <line x1=\"13\" y1=\"3\" x2=\"13\" y2=\"70\" />\n",
       "  <line x1=\"13\" y1=\"3\" x2=\"13\" y2=\"71\" />\n",
       "  <line x1=\"14\" y1=\"4\" x2=\"14\" y2=\"72\" />\n",
       "  <line x1=\"15\" y1=\"5\" x2=\"15\" y2=\"72\" />\n",
       "  <line x1=\"16\" y1=\"6\" x2=\"16\" y2=\"73\" />\n",
       "  <line x1=\"16\" y1=\"6\" x2=\"16\" y2=\"74\" />\n",
       "  <line x1=\"17\" y1=\"7\" x2=\"17\" y2=\"75\" />\n",
       "  <line x1=\"18\" y1=\"8\" x2=\"18\" y2=\"75\" />\n",
       "  <line x1=\"19\" y1=\"9\" x2=\"19\" y2=\"76\" />\n",
       "  <line x1=\"19\" y1=\"9\" x2=\"19\" y2=\"77\" />\n",
       "  <line x1=\"20\" y1=\"10\" x2=\"20\" y2=\"78\" />\n",
       "  <line x1=\"21\" y1=\"11\" x2=\"21\" y2=\"78\" />\n",
       "  <line x1=\"22\" y1=\"12\" x2=\"22\" y2=\"79\" />\n",
       "  <line x1=\"23\" y1=\"13\" x2=\"23\" y2=\"80\" />\n",
       "  <line x1=\"23\" y1=\"13\" x2=\"23\" y2=\"81\" />\n",
       "  <line x1=\"24\" y1=\"14\" x2=\"24\" y2=\"81\" />\n",
       "  <line x1=\"25\" y1=\"15\" x2=\"25\" y2=\"82\" />\n",
       "  <line x1=\"26\" y1=\"16\" x2=\"26\" y2=\"83\" />\n",
       "  <line x1=\"26\" y1=\"16\" x2=\"26\" y2=\"84\" />\n",
       "  <line x1=\"27\" y1=\"17\" x2=\"27\" y2=\"85\" />\n",
       "  <line x1=\"28\" y1=\"18\" x2=\"28\" y2=\"85\" />\n",
       "  <line x1=\"29\" y1=\"19\" x2=\"29\" y2=\"86\" style=\"stroke-width:2\" />\n",
       "\n",
       "  <!-- Colored Rectangle -->\n",
       "  <polygon points=\"10.000000,0.000000 29.151012,19.151012 29.151012,86.574593 10.000000,67.423581\" style=\"fill:#ECB172A0;stroke-width:0\"/>\n",
       "\n",
       "  <!-- Horizontal lines -->\n",
       "  <line x1=\"10\" y1=\"0\" x2=\"130\" y2=\"0\" style=\"stroke-width:2\" />\n",
       "  <line x1=\"10\" y1=\"0\" x2=\"130\" y2=\"0\" />\n",
       "  <line x1=\"11\" y1=\"1\" x2=\"131\" y2=\"1\" />\n",
       "  <line x1=\"12\" y1=\"2\" x2=\"132\" y2=\"2\" />\n",
       "  <line x1=\"13\" y1=\"3\" x2=\"133\" y2=\"3\" />\n",
       "  <line x1=\"13\" y1=\"3\" x2=\"133\" y2=\"3\" />\n",
       "  <line x1=\"14\" y1=\"4\" x2=\"134\" y2=\"4\" />\n",
       "  <line x1=\"15\" y1=\"5\" x2=\"135\" y2=\"5\" />\n",
       "  <line x1=\"16\" y1=\"6\" x2=\"136\" y2=\"6\" />\n",
       "  <line x1=\"16\" y1=\"6\" x2=\"136\" y2=\"6\" />\n",
       "  <line x1=\"17\" y1=\"7\" x2=\"137\" y2=\"7\" />\n",
       "  <line x1=\"18\" y1=\"8\" x2=\"138\" y2=\"8\" />\n",
       "  <line x1=\"19\" y1=\"9\" x2=\"139\" y2=\"9\" />\n",
       "  <line x1=\"19\" y1=\"9\" x2=\"139\" y2=\"9\" />\n",
       "  <line x1=\"20\" y1=\"10\" x2=\"140\" y2=\"10\" />\n",
       "  <line x1=\"21\" y1=\"11\" x2=\"141\" y2=\"11\" />\n",
       "  <line x1=\"22\" y1=\"12\" x2=\"142\" y2=\"12\" />\n",
       "  <line x1=\"23\" y1=\"13\" x2=\"143\" y2=\"13\" />\n",
       "  <line x1=\"23\" y1=\"13\" x2=\"143\" y2=\"13\" />\n",
       "  <line x1=\"24\" y1=\"14\" x2=\"144\" y2=\"14\" />\n",
       "  <line x1=\"25\" y1=\"15\" x2=\"145\" y2=\"15\" />\n",
       "  <line x1=\"26\" y1=\"16\" x2=\"146\" y2=\"16\" />\n",
       "  <line x1=\"26\" y1=\"16\" x2=\"146\" y2=\"16\" />\n",
       "  <line x1=\"27\" y1=\"17\" x2=\"147\" y2=\"17\" />\n",
       "  <line x1=\"28\" y1=\"18\" x2=\"148\" y2=\"18\" />\n",
       "  <line x1=\"29\" y1=\"19\" x2=\"149\" y2=\"19\" style=\"stroke-width:2\" />\n",
       "\n",
       "  <!-- Vertical lines -->\n",
       "  <line x1=\"10\" y1=\"0\" x2=\"29\" y2=\"19\" style=\"stroke-width:2\" />\n",
       "  <line x1=\"130\" y1=\"0\" x2=\"149\" y2=\"19\" style=\"stroke-width:2\" />\n",
       "\n",
       "  <!-- Colored Rectangle -->\n",
       "  <polygon points=\"10.000000,0.000000 130.000000,0.000000 149.151012,19.151012 29.151012,19.151012\" style=\"fill:#ECB172A0;stroke-width:0\"/>\n",
       "\n",
       "  <!-- Horizontal lines -->\n",
       "  <line x1=\"29\" y1=\"19\" x2=\"149\" y2=\"19\" style=\"stroke-width:2\" />\n",
       "  <line x1=\"29\" y1=\"86\" x2=\"149\" y2=\"86\" style=\"stroke-width:2\" />\n",
       "\n",
       "  <!-- Vertical lines -->\n",
       "  <line x1=\"29\" y1=\"19\" x2=\"29\" y2=\"86\" style=\"stroke-width:2\" />\n",
       "  <line x1=\"149\" y1=\"19\" x2=\"149\" y2=\"86\" style=\"stroke-width:2\" />\n",
       "\n",
       "  <!-- Colored Rectangle -->\n",
       "  <polygon points=\"29.151012,19.151012 149.151012,19.151012 149.151012,86.574593 29.151012,86.574593\" style=\"fill:#ECB172A0;stroke-width:0\"/>\n",
       "\n",
       "  <!-- Text -->\n",
       "  <text x=\"89.151012\" y=\"106.574593\" font-size=\"1.0rem\" font-weight=\"100\" text-anchor=\"middle\" >687</text>\n",
       "  <text x=\"169.151012\" y=\"52.862802\" font-size=\"1.0rem\" font-weight=\"100\" text-anchor=\"middle\" transform=\"rotate(-90,169.151012,52.862802)\">386</text>\n",
       "  <text x=\"9.575506\" y=\"96.999087\" font-size=\"1.0rem\" font-weight=\"100\" text-anchor=\"middle\" transform=\"rotate(45,9.575506,96.999087)\">25</text>\n",
       "</svg>\n",
       "</td>\n",
       "</tr>\n",
       "</table>"
      ],
      "text/plain": [
       "dask.array<concatenate, shape=(25, 386, 687), dtype=uint8, chunksize=(1, 386, 687), chunktype=numpy.ndarray>"
      ]
     },
     "execution_count": 100,
     "metadata": {},
     "output_type": "execute_result"
    }
   ],
   "source": [
    "from dask_image.imread import imread\n",
    "\n",
    "slice_id = 300\n",
    "images = imread(f\"{data_path}/{hippoPart}/{LorR}/**/*{LorR}{slice_id:04d}.tif\")\n",
    "images"
   ]
  },
  {
   "cell_type": "code",
   "execution_count": 114,
   "metadata": {},
   "outputs": [
    {
     "data": {
      "text/html": [
       "<table>\n",
       "<tr>\n",
       "<td>\n",
       "<table>\n",
       "  <thead>\n",
       "    <tr><td> </td><th> Array </th><th> Chunk </th></tr>\n",
       "  </thead>\n",
       "  <tbody>\n",
       "    <tr><th> Bytes </th><td> 6.63 MB </td> <td> 265.18 kB </td></tr>\n",
       "    <tr><th> Shape </th><td> (25, 386, 687) </td> <td> (1, 386, 687) </td></tr>\n",
       "    <tr><th> Count </th><td> 75 Tasks </td><td> 25 Chunks </td></tr>\n",
       "    <tr><th> Type </th><td> uint8 </td><td> numpy.ndarray </td></tr>\n",
       "  </tbody>\n",
       "</table>\n",
       "</td>\n",
       "<td>\n",
       "<svg width=\"199\" height=\"136\" style=\"stroke:rgb(0,0,0);stroke-width:1\" >\n",
       "\n",
       "  <!-- Horizontal lines -->\n",
       "  <line x1=\"10\" y1=\"0\" x2=\"29\" y2=\"19\" style=\"stroke-width:2\" />\n",
       "  <line x1=\"10\" y1=\"67\" x2=\"29\" y2=\"86\" style=\"stroke-width:2\" />\n",
       "\n",
       "  <!-- Vertical lines -->\n",
       "  <line x1=\"10\" y1=\"0\" x2=\"10\" y2=\"67\" style=\"stroke-width:2\" />\n",
       "  <line x1=\"10\" y1=\"0\" x2=\"10\" y2=\"68\" />\n",
       "  <line x1=\"11\" y1=\"1\" x2=\"11\" y2=\"68\" />\n",
       "  <line x1=\"12\" y1=\"2\" x2=\"12\" y2=\"69\" />\n",
       "  <line x1=\"13\" y1=\"3\" x2=\"13\" y2=\"70\" />\n",
       "  <line x1=\"13\" y1=\"3\" x2=\"13\" y2=\"71\" />\n",
       "  <line x1=\"14\" y1=\"4\" x2=\"14\" y2=\"72\" />\n",
       "  <line x1=\"15\" y1=\"5\" x2=\"15\" y2=\"72\" />\n",
       "  <line x1=\"16\" y1=\"6\" x2=\"16\" y2=\"73\" />\n",
       "  <line x1=\"16\" y1=\"6\" x2=\"16\" y2=\"74\" />\n",
       "  <line x1=\"17\" y1=\"7\" x2=\"17\" y2=\"75\" />\n",
       "  <line x1=\"18\" y1=\"8\" x2=\"18\" y2=\"75\" />\n",
       "  <line x1=\"19\" y1=\"9\" x2=\"19\" y2=\"76\" />\n",
       "  <line x1=\"19\" y1=\"9\" x2=\"19\" y2=\"77\" />\n",
       "  <line x1=\"20\" y1=\"10\" x2=\"20\" y2=\"78\" />\n",
       "  <line x1=\"21\" y1=\"11\" x2=\"21\" y2=\"78\" />\n",
       "  <line x1=\"22\" y1=\"12\" x2=\"22\" y2=\"79\" />\n",
       "  <line x1=\"23\" y1=\"13\" x2=\"23\" y2=\"80\" />\n",
       "  <line x1=\"23\" y1=\"13\" x2=\"23\" y2=\"81\" />\n",
       "  <line x1=\"24\" y1=\"14\" x2=\"24\" y2=\"81\" />\n",
       "  <line x1=\"25\" y1=\"15\" x2=\"25\" y2=\"82\" />\n",
       "  <line x1=\"26\" y1=\"16\" x2=\"26\" y2=\"83\" />\n",
       "  <line x1=\"26\" y1=\"16\" x2=\"26\" y2=\"84\" />\n",
       "  <line x1=\"27\" y1=\"17\" x2=\"27\" y2=\"85\" />\n",
       "  <line x1=\"28\" y1=\"18\" x2=\"28\" y2=\"85\" />\n",
       "  <line x1=\"29\" y1=\"19\" x2=\"29\" y2=\"86\" style=\"stroke-width:2\" />\n",
       "\n",
       "  <!-- Colored Rectangle -->\n",
       "  <polygon points=\"10.000000,0.000000 29.151012,19.151012 29.151012,86.574593 10.000000,67.423581\" style=\"fill:#ECB172A0;stroke-width:0\"/>\n",
       "\n",
       "  <!-- Horizontal lines -->\n",
       "  <line x1=\"10\" y1=\"0\" x2=\"130\" y2=\"0\" style=\"stroke-width:2\" />\n",
       "  <line x1=\"10\" y1=\"0\" x2=\"130\" y2=\"0\" />\n",
       "  <line x1=\"11\" y1=\"1\" x2=\"131\" y2=\"1\" />\n",
       "  <line x1=\"12\" y1=\"2\" x2=\"132\" y2=\"2\" />\n",
       "  <line x1=\"13\" y1=\"3\" x2=\"133\" y2=\"3\" />\n",
       "  <line x1=\"13\" y1=\"3\" x2=\"133\" y2=\"3\" />\n",
       "  <line x1=\"14\" y1=\"4\" x2=\"134\" y2=\"4\" />\n",
       "  <line x1=\"15\" y1=\"5\" x2=\"135\" y2=\"5\" />\n",
       "  <line x1=\"16\" y1=\"6\" x2=\"136\" y2=\"6\" />\n",
       "  <line x1=\"16\" y1=\"6\" x2=\"136\" y2=\"6\" />\n",
       "  <line x1=\"17\" y1=\"7\" x2=\"137\" y2=\"7\" />\n",
       "  <line x1=\"18\" y1=\"8\" x2=\"138\" y2=\"8\" />\n",
       "  <line x1=\"19\" y1=\"9\" x2=\"139\" y2=\"9\" />\n",
       "  <line x1=\"19\" y1=\"9\" x2=\"139\" y2=\"9\" />\n",
       "  <line x1=\"20\" y1=\"10\" x2=\"140\" y2=\"10\" />\n",
       "  <line x1=\"21\" y1=\"11\" x2=\"141\" y2=\"11\" />\n",
       "  <line x1=\"22\" y1=\"12\" x2=\"142\" y2=\"12\" />\n",
       "  <line x1=\"23\" y1=\"13\" x2=\"143\" y2=\"13\" />\n",
       "  <line x1=\"23\" y1=\"13\" x2=\"143\" y2=\"13\" />\n",
       "  <line x1=\"24\" y1=\"14\" x2=\"144\" y2=\"14\" />\n",
       "  <line x1=\"25\" y1=\"15\" x2=\"145\" y2=\"15\" />\n",
       "  <line x1=\"26\" y1=\"16\" x2=\"146\" y2=\"16\" />\n",
       "  <line x1=\"26\" y1=\"16\" x2=\"146\" y2=\"16\" />\n",
       "  <line x1=\"27\" y1=\"17\" x2=\"147\" y2=\"17\" />\n",
       "  <line x1=\"28\" y1=\"18\" x2=\"148\" y2=\"18\" />\n",
       "  <line x1=\"29\" y1=\"19\" x2=\"149\" y2=\"19\" style=\"stroke-width:2\" />\n",
       "\n",
       "  <!-- Vertical lines -->\n",
       "  <line x1=\"10\" y1=\"0\" x2=\"29\" y2=\"19\" style=\"stroke-width:2\" />\n",
       "  <line x1=\"130\" y1=\"0\" x2=\"149\" y2=\"19\" style=\"stroke-width:2\" />\n",
       "\n",
       "  <!-- Colored Rectangle -->\n",
       "  <polygon points=\"10.000000,0.000000 130.000000,0.000000 149.151012,19.151012 29.151012,19.151012\" style=\"fill:#ECB172A0;stroke-width:0\"/>\n",
       "\n",
       "  <!-- Horizontal lines -->\n",
       "  <line x1=\"29\" y1=\"19\" x2=\"149\" y2=\"19\" style=\"stroke-width:2\" />\n",
       "  <line x1=\"29\" y1=\"86\" x2=\"149\" y2=\"86\" style=\"stroke-width:2\" />\n",
       "\n",
       "  <!-- Vertical lines -->\n",
       "  <line x1=\"29\" y1=\"19\" x2=\"29\" y2=\"86\" style=\"stroke-width:2\" />\n",
       "  <line x1=\"149\" y1=\"19\" x2=\"149\" y2=\"86\" style=\"stroke-width:2\" />\n",
       "\n",
       "  <!-- Colored Rectangle -->\n",
       "  <polygon points=\"29.151012,19.151012 149.151012,19.151012 149.151012,86.574593 29.151012,86.574593\" style=\"fill:#ECB172A0;stroke-width:0\"/>\n",
       "\n",
       "  <!-- Text -->\n",
       "  <text x=\"89.151012\" y=\"106.574593\" font-size=\"1.0rem\" font-weight=\"100\" text-anchor=\"middle\" >687</text>\n",
       "  <text x=\"169.151012\" y=\"52.862802\" font-size=\"1.0rem\" font-weight=\"100\" text-anchor=\"middle\" transform=\"rotate(-90,169.151012,52.862802)\">386</text>\n",
       "  <text x=\"9.575506\" y=\"96.999087\" font-size=\"1.0rem\" font-weight=\"100\" text-anchor=\"middle\" transform=\"rotate(45,9.575506,96.999087)\">25</text>\n",
       "</svg>\n",
       "</td>\n",
       "</tr>\n",
       "</table>"
      ],
      "text/plain": [
       "dask.array<stack, shape=(25, 386, 687), dtype=uint8, chunksize=(1, 386, 687), chunktype=numpy.ndarray>"
      ]
     },
     "execution_count": 114,
     "metadata": {},
     "output_type": "execute_result"
    }
   ],
   "source": [
    "from skimage.io import imread\n",
    "from skimage.io.collection import alphanumeric_key\n",
    "from dask import delayed\n",
    "import dask.array as da\n",
    "from glob import glob\n",
    "\n",
    "slice_id = 300\n",
    "filenames = glob(f\"{data_path}/{hippoPart}/{LorR}/**/*{LorR}{slice_id:04d}.tif\")\n",
    "filenames = sorted(filenames, key=alphanumeric_key)\n",
    "sample = imread(filenames[0])\n",
    "\n",
    "lazy_imread = delayed(imread)  # lazy reader\n",
    "lazy_arrays = [lazy_imread(fn) for fn in filenames]\n",
    "dask_arrays = [\n",
    "    da.from_delayed(delayed_reader, shape=sample.shape, dtype=sample.dtype)\n",
    "    for delayed_reader in lazy_arrays\n",
    "]\n",
    "# Stack into one large dask.array\n",
    "stack = da.stack(dask_arrays, axis=0)\n",
    "stack"
   ]
  },
  {
   "cell_type": "code",
   "execution_count": 71,
   "metadata": {},
   "outputs": [
    {
     "data": {
      "text/plain": [
       "25"
      ]
     },
     "execution_count": 71,
     "metadata": {},
     "output_type": "execute_result"
    }
   ],
   "source": [
    "n_animals = images.shape[0]\n",
    "n_animals"
   ]
  },
  {
   "cell_type": "code",
   "execution_count": 92,
   "metadata": {},
   "outputs": [],
   "source": [
    "from skimage.metrics import structural_similarity as ssim\n",
    "import dask\n",
    "\n",
    "result = [\n",
    "    dask.delayed(ssim)(images[i], images[j], gaussian_weights=True, sigma=sig)\n",
    "    for i, j in combinations(range(n_animals), 2)\n",
    "]\n",
    "result = np.asarray(dask.compute(*result, scheduler=\"processes\"))"
   ]
  },
  {
   "cell_type": "code",
   "execution_count": 124,
   "metadata": {},
   "outputs": [],
   "source": [
    "from lesion_similarity_analysis.core import (\n",
    "    get_slice_filenames,\n",
    "    load_images,\n",
    "    compute_structural_similarity,\n",
    "    get_animal_names,\n",
    ")\n",
    "\n",
    "filenames = get_slice_filenames(data_path, hippoPart, LorR, slice_id)\n",
    "animal_names = get_animal_names(filenames, LorR)\n",
    "images = load_images(filenames)\n",
    "similarity = compute_structural_similarity(images, sig)"
   ]
  },
  {
   "cell_type": "code",
   "execution_count": 198,
   "metadata": {},
   "outputs": [
    {
     "data": {
      "text/plain": [
       "'blah'"
      ]
     },
     "execution_count": 198,
     "metadata": {},
     "output_type": "execute_result"
    }
   ],
   "source": [
    "os.path.join(\"\", \"blah\")"
   ]
  },
  {
   "cell_type": "code",
   "execution_count": null,
   "metadata": {},
   "outputs": [],
   "source": []
  },
  {
   "cell_type": "code",
   "execution_count": 134,
   "metadata": {},
   "outputs": [
    {
     "ename": "IndexError",
     "evalue": "too many indices for array",
     "output_type": "error",
     "traceback": [
      "\u001b[0;31m---------------------------------------------------------------------------\u001b[0m",
      "\u001b[0;31mIndexError\u001b[0m                                Traceback (most recent call last)",
      "\u001b[0;32m<ipython-input-134-5973cb8c58b5>\u001b[0m in \u001b[0;36m<module>\u001b[0;34m\u001b[0m\n\u001b[0;32m----> 1\u001b[0;31m \u001b[0moutput\u001b[0m\u001b[0;34m[\u001b[0m\u001b[0mtuple\u001b[0m\u001b[0;34m(\u001b[0m\u001b[0mcombinations\u001b[0m\u001b[0;34m(\u001b[0m\u001b[0mrange\u001b[0m\u001b[0;34m(\u001b[0m\u001b[0mn_animals\u001b[0m\u001b[0;34m)\u001b[0m\u001b[0;34m,\u001b[0m \u001b[0;36m2\u001b[0m\u001b[0;34m)\u001b[0m\u001b[0;34m)\u001b[0m\u001b[0;34m]\u001b[0m\u001b[0;34m.\u001b[0m\u001b[0mshape\u001b[0m\u001b[0;34m\u001b[0m\u001b[0;34m\u001b[0m\u001b[0m\n\u001b[0m",
      "\u001b[0;31mIndexError\u001b[0m: too many indices for array"
     ]
    }
   ],
   "source": [
    "output[list(combinations(range(n_animals), 2))].shape"
   ]
  },
  {
   "cell_type": "code",
   "execution_count": 149,
   "metadata": {},
   "outputs": [],
   "source": [
    "output[np.triu_indices(n_animals, k=1)][:, slice_id] = similarity"
   ]
  },
  {
   "cell_type": "code",
   "execution_count": 156,
   "metadata": {},
   "outputs": [],
   "source": [
    "blah = np.triu(similarity, k=1) + np.tril(similarity, k=1)"
   ]
  },
  {
   "cell_type": "code",
   "execution_count": 165,
   "metadata": {},
   "outputs": [
    {
     "data": {
      "text/plain": [
       "(300, 300)"
      ]
     },
     "execution_count": 165,
     "metadata": {},
     "output_type": "execute_result"
    }
   ],
   "source": [
    "np.tril(similarity, k=1).shape"
   ]
  },
  {
   "cell_type": "code",
   "execution_count": 192,
   "metadata": {},
   "outputs": [
    {
     "data": {
      "text/plain": [
       "<matplotlib.image.AxesImage at 0x7f4b3450e640>"
      ]
     },
     "execution_count": 192,
     "metadata": {},
     "output_type": "execute_result"
    },
    {
     "data": {
      "image/png": "[encoded data removed]",
      "text/plain": [
       "<Figure size 432x288 with 1 Axes>"
      ]
     },
     "metadata": {
      "image/png": {
       "height": 248,
       "width": 251
      },
      "needs_background": "light"
     },
     "output_type": "display_data"
    }
   ],
   "source": [
    "plt.imshow(output)"
   ]
  },
  {
   "cell_type": "code",
   "execution_count": 12,
   "metadata": {},
   "outputs": [
    {
     "data": {
      "text/plain": [
       "\u001b[0;31mSignature:\u001b[0m\n",
       "\u001b[0mnp\u001b[0m\u001b[0;34m.\u001b[0m\u001b[0mload\u001b[0m\u001b[0;34m(\u001b[0m\u001b[0;34m\u001b[0m\n",
       "\u001b[0;34m\u001b[0m    \u001b[0mfile\u001b[0m\u001b[0;34m,\u001b[0m\u001b[0;34m\u001b[0m\n",
       "\u001b[0;34m\u001b[0m    \u001b[0mmmap_mode\u001b[0m\u001b[0;34m=\u001b[0m\u001b[0;32mNone\u001b[0m\u001b[0;34m,\u001b[0m\u001b[0;34m\u001b[0m\n",
       "\u001b[0;34m\u001b[0m    \u001b[0mallow_pickle\u001b[0m\u001b[0;34m=\u001b[0m\u001b[0;32mFalse\u001b[0m\u001b[0;34m,\u001b[0m\u001b[0;34m\u001b[0m\n",
       "\u001b[0;34m\u001b[0m    \u001b[0mfix_imports\u001b[0m\u001b[0;34m=\u001b[0m\u001b[0;32mTrue\u001b[0m\u001b[0;34m,\u001b[0m\u001b[0;34m\u001b[0m\n",
       "\u001b[0;34m\u001b[0m    \u001b[0mencoding\u001b[0m\u001b[0;34m=\u001b[0m\u001b[0;34m'ASCII'\u001b[0m\u001b[0;34m,\u001b[0m\u001b[0;34m\u001b[0m\n",
       "\u001b[0;34m\u001b[0m\u001b[0;34m)\u001b[0m\u001b[0;34m\u001b[0m\u001b[0;34m\u001b[0m\u001b[0m\n",
       "\u001b[0;31mDocstring:\u001b[0m\n",
       "Load arrays or pickled objects from ``.npy``, ``.npz`` or pickled files.\n",
       "\n",
       ".. warning:: Loading files that contain object arrays uses the ``pickle``\n",
       "             module, which is not secure against erroneous or maliciously\n",
       "             constructed data. Consider passing ``allow_pickle=False`` to\n",
       "             load data that is known not to contain object arrays for the\n",
       "             safer handling of untrusted sources.\n",
       "\n",
       "Parameters\n",
       "----------\n",
       "file : file-like object, string, or pathlib.Path\n",
       "    The file to read. File-like objects must support the\n",
       "    ``seek()`` and ``read()`` methods. Pickled files require that the\n",
       "    file-like object support the ``readline()`` method as well.\n",
       "mmap_mode : {None, 'r+', 'r', 'w+', 'c'}, optional\n",
       "    If not None, then memory-map the file, using the given mode (see\n",
       "    `numpy.memmap` for a detailed description of the modes).  A\n",
       "    memory-mapped array is kept on disk. However, it can be accessed\n",
       "    and sliced like any ndarray.  Memory mapping is especially useful\n",
       "    for accessing small fragments of large files without reading the\n",
       "    entire file into memory.\n",
       "allow_pickle : bool, optional\n",
       "    Allow loading pickled object arrays stored in npy files. Reasons for\n",
       "    disallowing pickles include security, as loading pickled data can\n",
       "    execute arbitrary code. If pickles are disallowed, loading object\n",
       "    arrays will fail. Default: False\n",
       "\n",
       "    .. versionchanged:: 1.16.3\n",
       "        Made default False in response to CVE-2019-6446.\n",
       "\n",
       "fix_imports : bool, optional\n",
       "    Only useful when loading Python 2 generated pickled files on Python 3,\n",
       "    which includes npy/npz files containing object arrays. If `fix_imports`\n",
       "    is True, pickle will try to map the old Python 2 names to the new names\n",
       "    used in Python 3.\n",
       "encoding : str, optional\n",
       "    What encoding to use when reading Python 2 strings. Only useful when\n",
       "    loading Python 2 generated pickled files in Python 3, which includes\n",
       "    npy/npz files containing object arrays. Values other than 'latin1',\n",
       "    'ASCII', and 'bytes' are not allowed, as they can corrupt numerical\n",
       "    data. Default: 'ASCII'\n",
       "\n",
       "Returns\n",
       "-------\n",
       "result : array, tuple, dict, etc.\n",
       "    Data stored in the file. For ``.npz`` files, the returned instance\n",
       "    of NpzFile class must be closed to avoid leaking file descriptors.\n",
       "\n",
       "Raises\n",
       "------\n",
       "IOError\n",
       "    If the input file does not exist or cannot be read.\n",
       "ValueError\n",
       "    The file contains an object array, but allow_pickle=False given.\n",
       "\n",
       "See Also\n",
       "--------\n",
       "save, savez, savez_compressed, loadtxt\n",
       "memmap : Create a memory-map to an array stored in a file on disk.\n",
       "lib.format.open_memmap : Create or load a memory-mapped ``.npy`` file.\n",
       "\n",
       "Notes\n",
       "-----\n",
       "- If the file contains pickle data, then whatever object is stored\n",
       "  in the pickle is returned.\n",
       "- If the file is a ``.npy`` file, then a single array is returned.\n",
       "- If the file is a ``.npz`` file, then a dictionary-like object is\n",
       "  returned, containing ``{filename: array}`` key-value pairs, one for\n",
       "  each file in the archive.\n",
       "- If the file is a ``.npz`` file, the returned value supports the\n",
       "  context manager protocol in a similar fashion to the open function::\n",
       "\n",
       "    with load('foo.npz') as data:\n",
       "        a = data['a']\n",
       "\n",
       "  The underlying file descriptor is closed when exiting the 'with'\n",
       "  block.\n",
       "\n",
       "Examples\n",
       "--------\n",
       "Store data to disk, and load it again:\n",
       "\n",
       ">>> np.save('/tmp/123', np.array([[1, 2, 3], [4, 5, 6]]))\n",
       ">>> np.load('/tmp/123.npy')\n",
       "array([[1, 2, 3],\n",
       "       [4, 5, 6]])\n",
       "\n",
       "Store compressed data to disk, and load it again:\n",
       "\n",
       ">>> a=np.array([[1, 2, 3], [4, 5, 6]])\n",
       ">>> b=np.array([1, 2])\n",
       ">>> np.savez('/tmp/123.npz', a=a, b=b)\n",
       ">>> data = np.load('/tmp/123.npz')\n",
       ">>> data['a']\n",
       "array([[1, 2, 3],\n",
       "       [4, 5, 6]])\n",
       ">>> data['b']\n",
       "array([1, 2])\n",
       ">>> data.close()\n",
       "\n",
       "Mem-map the stored array, and then access the second row\n",
       "directly from disk:\n",
       "\n",
       ">>> X = np.load('/tmp/123.npy', mmap_mode='r')\n",
       ">>> X[1, :]\n",
       "memmap([4, 5, 6])\n",
       "\u001b[0;31mFile:\u001b[0m      ~/miniconda3/envs/lesion_similarity_analysis/lib/python3.8/site-packages/numpy/lib/npyio.py\n",
       "\u001b[0;31mType:\u001b[0m      function\n"
      ]
     },
     "metadata": {},
     "output_type": "display_data"
    }
   ],
   "source": [
    "np.load?"
   ]
  },
  {
   "cell_type": "code",
   "execution_count": 18,
   "metadata": {},
   "outputs": [
    {
     "ename": "ValueError",
     "evalue": "Expected 1D or 2D array, got 3D array instead",
     "output_type": "error",
     "traceback": [
      "\u001b[0;31m---------------------------------------------------------------------------\u001b[0m",
      "\u001b[0;31mValueError\u001b[0m                                Traceback (most recent call last)",
      "\u001b[0;32m~/Documents/Github/lesion_similarity_analysis/scripts/run_analysis.py\u001b[0m in \u001b[0;36m<module>\u001b[0;34m\u001b[0m\n\u001b[0;32m----> 1\u001b[0;31m \u001b[0mnp\u001b[0m\u001b[0;34m.\u001b[0m\u001b[0msavetxt\u001b[0m\u001b[0;34m(\u001b[0m\u001b[0;34m\"test.txt\"\u001b[0m\u001b[0;34m,\u001b[0m \u001b[0mnp\u001b[0m\u001b[0;34m.\u001b[0m\u001b[0mones\u001b[0m\u001b[0;34m(\u001b[0m\u001b[0;34m(\u001b[0m\u001b[0;36m10\u001b[0m\u001b[0;34m,\u001b[0m \u001b[0;36m10\u001b[0m\u001b[0;34m,\u001b[0m \u001b[0;36m10\u001b[0m\u001b[0;34m)\u001b[0m\u001b[0;34m)\u001b[0m\u001b[0;34m)\u001b[0m\u001b[0;34m\u001b[0m\u001b[0;34m\u001b[0m\u001b[0m\n\u001b[0m",
      "\u001b[0;32m<__array_function__ internals>\u001b[0m in \u001b[0;36msavetxt\u001b[0;34m(*args, **kwargs)\u001b[0m\n",
      "\u001b[0;32m~/miniconda3/envs/lesion_similarity_analysis/lib/python3.8/site-packages/numpy/lib/npyio.py\u001b[0m in \u001b[0;36msavetxt\u001b[0;34m(fname, X, fmt, delimiter, newline, header, footer, comments, encoding)\u001b[0m\n\u001b[1;32m   1392\u001b[0m         \u001b[0;31m# Handle 1-dimensional arrays\u001b[0m\u001b[0;34m\u001b[0m\u001b[0;34m\u001b[0m\u001b[0;34m\u001b[0m\u001b[0m\n\u001b[1;32m   1393\u001b[0m         \u001b[0;32mif\u001b[0m \u001b[0mX\u001b[0m\u001b[0;34m.\u001b[0m\u001b[0mndim\u001b[0m \u001b[0;34m==\u001b[0m \u001b[0;36m0\u001b[0m \u001b[0;32mor\u001b[0m \u001b[0mX\u001b[0m\u001b[0;34m.\u001b[0m\u001b[0mndim\u001b[0m \u001b[0;34m>\u001b[0m \u001b[0;36m2\u001b[0m\u001b[0;34m:\u001b[0m\u001b[0;34m\u001b[0m\u001b[0;34m\u001b[0m\u001b[0m\n\u001b[0;32m-> 1394\u001b[0;31m             raise ValueError(\n\u001b[0m\u001b[1;32m   1395\u001b[0m                 \"Expected 1D or 2D array, got %dD array instead\" % X.ndim)\n\u001b[1;32m   1396\u001b[0m         \u001b[0;32melif\u001b[0m \u001b[0mX\u001b[0m\u001b[0;34m.\u001b[0m\u001b[0mndim\u001b[0m \u001b[0;34m==\u001b[0m \u001b[0;36m1\u001b[0m\u001b[0;34m:\u001b[0m\u001b[0;34m\u001b[0m\u001b[0;34m\u001b[0m\u001b[0m\n",
      "\u001b[0;31mValueError\u001b[0m: Expected 1D or 2D array, got 3D array instead"
     ]
    }
   ],
   "source": [
    "np.savetxt(\"test.txt\", np.ones((10, 10, 10)))"
   ]
  },
  {
   "cell_type": "code",
   "execution_count": 26,
   "metadata": {},
   "outputs": [
    {
     "data": {
      "application/vnd.jupyter.widget-view+json": {
       "model_id": "da81986cde5f4158bfaacf25f037e026",
       "version_major": 2,
       "version_minor": 0
      },
      "text/plain": [
       "HBox(children=(FloatProgress(value=0.0, description='slices', max=363.0, style=ProgressStyle(description_width…"
      ]
     },
     "metadata": {},
     "output_type": "display_data"
    },
    {
     "name": "stdout",
     "output_type": "stream",
     "text": [
      "\n"
     ]
    }
   ],
   "source": [
    "from lesion_similarity_analysis.core import get_slice_filenames, get_animal_names, compute_structural_similarity, complete_array, SLICE_SIZE, load_images\n",
    "\n",
    "hippoPart, LorR = \"Dorsal\", \"L\"\n",
    "sigma = 50\n",
    "data_path = \"/stelmo/david/FXS/coh4/lesionEvaluation/FXScoh4/Cropped/\"\n",
    "\n",
    "n_slices = SLICE_SIZE[LorR, hippoPart]\n",
    "output = []\n",
    "\n",
    "for slice_ind in tqdm(range(n_slices), desc=\"slices\"):\n",
    "    filenames = get_slice_filenames(data_path, hippoPart, LorR, slice_ind)\n",
    "    animal_names = get_animal_names(filenames, LorR)\n",
    "    n_animals = len(animal_names)\n",
    "    images = load_images(filenames)\n",
    "    similarity = compute_structural_similarity(images, sigma)\n",
    "    similarity = complete_array(similarity, n_animals)\n",
    "    output.append(similarity)\n",
    "\n",
    "output = np.stack(output, axis=-1)"
   ]
  },
  {
   "cell_type": "code",
   "execution_count": 43,
   "metadata": {},
   "outputs": [],
   "source": [
    "import xarray as xr\n",
    "\n",
    "blah = xr.DataArray(output, dims=[\"animal1\", \"animal2\", \"slice\"], coords={\"animal1\": animal_names, \"animal2\": animal_names, \"slice\": range(output.shape[-1])}, name=\"similarity\").to_dataframe()\n",
    "blah.to_csv(\"test\")"
   ]
  },
  {
   "cell_type": "code",
   "execution_count": null,
   "metadata": {},
   "outputs": [],
   "source": []
  }
 ],
 "metadata": {
  "kernelspec": {
   "display_name": "Python [conda env:lesion_similarity_analysis] *",
   "language": "python",
   "name": "conda-env-lesion_similarity_analysis-py"
  },
  "language_info": {
   "codemirror_mode": {
    "name": "ipython",
    "version": 3
   },
   "file_extension": ".py",
   "mimetype": "text/x-python",
   "name": "python",
   "nbconvert_exporter": "python",
   "pygments_lexer": "ipython3",
   "version": "3.8.2"
  }
 },
 "nbformat": 4,
 "nbformat_minor": 4
}
