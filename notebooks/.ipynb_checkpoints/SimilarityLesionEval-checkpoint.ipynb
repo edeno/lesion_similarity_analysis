{
 "cells": [
  {
   "cell_type": "code",
   "execution_count": 40,
   "metadata": {},
   "outputs": [],
   "source": [
    "import numpy as np\n",
    "import sys\n",
    "np.set_printoptions(threshold=sys.maxsize)\n",
    "import matplotlib.pyplot as plt\n",
    "import time\n",
    "\n",
    "from skimage import io\n",
    "from skimage import data, img_as_float\n",
    "from skimage.metrics import structural_similarity as ssim"
   ]
  },
  {
   "cell_type": "code",
   "execution_count": 41,
   "metadata": {},
   "outputs": [],
   "source": [
    "anKey=np.array([100,101,102,103,104,105,106,107,108,109,110,111,112,113,114,115,200,201,202,203,204,205,206,207,208])\n",
    "        \n",
    "control=np.array([0,1, 0, 1, 0,1,0,1,1,0,1,0,1,0,1,0,1,0,1,0,1,0,0,1,0])"
   ]
  },
  {
   "cell_type": "code",
   "execution_count": 52,
   "metadata": {},
   "outputs": [],
   "source": [
    "def evaluateAllSlice(LorR,hippoPart,sig):\n",
    "    fName=\"Desktop/sim_\"+LorR+\"_\"+hippoPart+\".txt\"\n",
    "    duration=0\n",
    "    if(LorR==\"L\"):\n",
    "        if(hippoPart==\"Dorsal\"):\n",
    "            output=np.zeros((anKey.size,anKey.size,363))\n",
    "        elif(hippoPart==\"Intermediate\"):\n",
    "            output=np.zeros((anKey.size,anKey.size,498))\n",
    "    elif(LorR==\"R\"):\n",
    "        if(hippoPart==\"Dorsal\"):\n",
    "            output=np.zeros((anKey.size,anKey.size,349))\n",
    "        elif(hippoPart==\"Intermediate\"):\n",
    "            output=np.zeros((anKey.size,anKey.size,500))\n",
    "    howMany=output.shape[2]\n",
    "    for i in range(howMany):\n",
    "        if(i<10):\n",
    "            which=\"000\"+str(i)\n",
    "        elif(i<100):\n",
    "            which=\"00\"+str(i)\n",
    "        elif(i<1000):\n",
    "            which=\"0\"+str(i)\n",
    "        else:\n",
    "            which=str(i)\n",
    "        start=time.time()\n",
    "        sim=getAllSim(which,LorR,hippoPart,sig)\n",
    "        fullSim=completeArray(sim)\n",
    "        output[:,:,i]=fullSim[:,:]\n",
    "        end=time.time()\n",
    "        duration*=i\n",
    "        duration+=(end-start)\n",
    "        duration/=(i+1)\n",
    "        print(duration)\n",
    "        print(((howMany-i-1)*duration)/60)\n",
    "    f=open(fName,\"w+\")\n",
    "    f.write(np.array2string(output))\n",
    "    f.close\n",
    "\n",
    "def getAllSim(which,LorR,hippoPart,sig):\n",
    "    sim=np.zeros((anKey.size,anKey.size))\n",
    "    for i in range(anKey.size):\n",
    "        for j in range(anKey.size):\n",
    "            if(i>j):\n",
    "                sim[i][j]=getSim(str(anKey[i]),str(anKey[j]),which,LorR,hippoPart,sig)\n",
    "            else:\n",
    "                sim[i][j]=np.nan\n",
    "    return sim\n",
    "\n",
    "def getSim(an1,an2,which,LorR,hippoPart,sig):\n",
    "    im1=loadImage(an1,which,LorR,hippoPart)\n",
    "    im2=loadImage(an2,which,LorR,hippoPart)\n",
    "    return ssim(im1,im2,gaussian_weights=True,sigma=sig)\n",
    "\n",
    "def loadImage(nm,which,LorR,hippoPart):\n",
    "    imageStr=\"Desktop/FXScoh4/Cropped/\"+hippoPart+\"/\"+LorR+\"/\"+nm+\"/\"+nm+LorR+which+\".tif\"\n",
    "    image=io.imread(imageStr)\n",
    "    return image\n",
    "\n",
    "def getNN(input):\n",
    "    NNinfo=np.zeros((input.shape[0],2))\n",
    "    for i in range(control.size):\n",
    "        for j in range(control.size):\n",
    "            if(control[j]):\n",
    "                if(NNinfo[i][0]<input[i][j]):\n",
    "                    NNinfo[i][0]=input[i][j]\n",
    "                    NNinfo[i][1]=control[j]\n",
    "    return NNinfo\n",
    "\n",
    "def completeArray(input):\n",
    "    fullSim=np.zeros((anKey.size,anKey.size))\n",
    "    for i in range(anKey.size):\n",
    "        for j in range(anKey.size):\n",
    "            if(i<j):\n",
    "                fullSim[i][j]=input[j][i]\n",
    "            else:\n",
    "                fullSim[i][j]=input[i][j]\n",
    "    return fullSim"
   ]
  },
  {
   "cell_type": "code",
   "execution_count": 72,
   "metadata": {},
   "outputs": [
    {
     "name": "stdout",
     "output_type": "stream",
     "text": [
      "0.6728437499697968\n"
     ]
    }
   ],
   "source": [
    "print(getSim(str(anKey[12]),str(anKey[0]),\"0200\",\"L\",\"Dorsal\",10))"
   ]
  },
  {
   "cell_type": "code",
   "execution_count": 48,
   "metadata": {},
   "outputs": [
    {
     "name": "stdout",
     "output_type": "stream",
     "text": [
      "231.3273777961731\n",
      "3.855456296602885\n",
      "230.67587304115295\n",
      "0.0\n"
     ]
    }
   ],
   "source": [
    "evaluateAllSlice(\"L\",\"Dorsal\",50)"
   ]
  },
  {
   "cell_type": "code",
   "execution_count": 49,
   "metadata": {},
   "outputs": [
    {
     "name": "stdout",
     "output_type": "stream",
     "text": [
      "210.3072361946106\n",
      "3.50512060324351\n",
      "209.43806159496307\n",
      "0.0\n"
     ]
    }
   ],
   "source": [
    "evaluateAllSlice(\"L\",\"Intermediate\",50)"
   ]
  },
  {
   "cell_type": "code",
   "execution_count": 50,
   "metadata": {},
   "outputs": [
    {
     "name": "stdout",
     "output_type": "stream",
     "text": [
      "239.48538613319397\n",
      "3.9914231022198994\n",
      "237.7067769765854\n",
      "0.0\n"
     ]
    }
   ],
   "source": [
    "evaluateAllSlice(\"R\",\"Dorsal\",50)"
   ]
  },
  {
   "cell_type": "code",
   "execution_count": 51,
   "metadata": {},
   "outputs": [
    {
     "name": "stdout",
     "output_type": "stream",
     "text": [
      "250.3431532382965\n",
      "4.172385887304942\n",
      "249.63954317569733\n",
      "0.0\n"
     ]
    }
   ],
   "source": [
    "evaluateAllSlice(\"R\",\"Intermediate\",50)"
   ]
  },
  {
   "cell_type": "code",
   "execution_count": null,
   "metadata": {},
   "outputs": [],
   "source": []
  }
 ],
 "metadata": {
  "kernelspec": {
   "display_name": "Python 3",
   "language": "python",
   "name": "python3"
  },
  "language_info": {
   "codemirror_mode": {
    "name": "ipython",
    "version": 3
   },
   "file_extension": ".py",
   "mimetype": "text/x-python",
   "name": "python",
   "nbconvert_exporter": "python",
   "pygments_lexer": "ipython3",
   "version": "3.7.4"
  }
 },
 "nbformat": 4,
 "nbformat_minor": 4
}
